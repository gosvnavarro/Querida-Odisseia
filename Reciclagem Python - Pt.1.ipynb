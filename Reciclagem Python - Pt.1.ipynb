{
 "cells": [
  {
   "cell_type": "markdown",
   "metadata": {},
   "source": []
  },
  {
   "cell_type": "markdown",
   "metadata": {},
   "source": [
    "# VARIÁVEIS"
   ]
  },
  {
   "cell_type": "markdown",
   "metadata": {},
   "source": [
    "## Exemplos de variáveis"
   ]
  },
  {
   "cell_type": "code",
   "execution_count": 2,
   "metadata": {},
   "outputs": [
    {
     "name": "stdout",
     "output_type": "stream",
     "text": [
      "<class 'str'>\n",
      "<class 'int'>\n"
     ]
    }
   ],
   "source": [
    "frase = 'O conhecimento deve ser livre'\n",
    "print(type(frase))\n",
    "\n",
    "numero = 3\n",
    "print(type(numero)) "
   ]
  },
  {
   "cell_type": "markdown",
   "metadata": {},
   "source": [
    "## Utilização"
   ]
  },
  {
   "cell_type": "code",
   "execution_count": 1,
   "metadata": {},
   "outputs": [
    {
     "name": "stdout",
     "output_type": "stream",
     "text": [
      "3.14\n"
     ]
    }
   ],
   "source": [
    "# Armazenamento simples\n",
    "pi = 3.14\n",
    "print(pi)"
   ]
  },
  {
   "cell_type": "code",
   "execution_count": null,
   "metadata": {},
   "outputs": [],
   "source": [
    "# Contador\n",
    "contador_inicial = 0\n",
    "\n",
    "for texto in (\"Alice\", 30, \"Programadora\", None, True, \"Departamento A\"):\n",
    "    if isinstance(texto, str):\n",
    "        contador_inicial += 1\n",
    "\n",
    "print(contador_inicial)"
   ]
  },
  {
   "cell_type": "code",
   "execution_count": 2,
   "metadata": {},
   "outputs": [
    {
     "name": "stdout",
     "output_type": "stream",
     "text": [
      "18\n"
     ]
    }
   ],
   "source": [
    "# Acumulador\n",
    "numeros = [0, 3, 6, 9]\n",
    "total = 0\n",
    "\n",
    "for numero in numeros:\n",
    "    total += numero\n",
    "\n",
    "print(total)"
   ]
  },
  {
   "cell_type": "code",
   "execution_count": 8,
   "metadata": {},
   "outputs": [
    {
     "name": "stdout",
     "output_type": "stream",
     "text": [
      "Variavel A: Olá time. \n",
      "Variavel B Tchau time.\n",
      "\n",
      "Variavel A: Tchau time. \n",
      "Variavel B Olá time.\n"
     ]
    }
   ],
   "source": [
    "# Temporaria\n",
    "variavel_a = 'Olá time.'\n",
    "variavel_b = 'Tchau time.'\n",
    "print('Variavel A:', variavel_a, '\\nVariavel B', variavel_b)\n",
    "\n",
    "\n",
    "temp = variavel_a\n",
    "variavel_a = variavel_b\n",
    "variavel_b = temp\n",
    "\n",
    "print('\\nVariavel A:', variavel_a, '\\nVariavel B', variavel_b)\n",
    "\n"
   ]
  },
  {
   "cell_type": "code",
   "execution_count": 9,
   "metadata": {},
   "outputs": [
    {
     "name": "stdout",
     "output_type": "stream",
     "text": [
      "Leve um guarda-chuva!\n"
     ]
    }
   ],
   "source": [
    "# Sinalizador boolenano\n",
    "esta_chovendo = True\n",
    "\n",
    "if esta_chovendo:\n",
    "    print(\"Leve um guarda-chuva!\")\n",
    "else:\n",
    "    print(\"Você pode sair sem guarda-chuva.\")"
   ]
  },
  {
   "cell_type": "code",
   "execution_count": 13,
   "metadata": {},
   "outputs": [
    {
     "name": "stdout",
     "output_type": "stream",
     "text": [
      "('Joana', '111-2222-1234', 'joana@exemplo.com.br')\n",
      "('Marcos', '111-2222-2341', 'marcos@exemplo.com.br')\n",
      "('Laura', '111-2222-3412', 'laura@exemplo.com.br')\n",
      "('David', '111-2222-4123', 'david@exemplo.com.br')\n"
     ]
    }
   ],
   "source": [
    "# Armazenamento múltiplo\n",
    "funcionarios = [\n",
    "    (\"Joana\", \"111-2222-1234\", \"joana@exemplo.com.br\"),\n",
    "    (\"Marcos\", \"111-2222-2341\", \"marcos@exemplo.com.br\"),\n",
    "    (\"Laura\", \"111-2222-3412\", \"laura@exemplo.com.br\"),\n",
    "    (\"David\", \"111-2222-4123\", \"david@exemplo.com.br\")\n",
    "    ]\n",
    "\n",
    "for funcionario in funcionarios:\n",
    "    print(funcionario)"
   ]
  },
  {
   "cell_type": "code",
   "execution_count": 17,
   "metadata": {},
   "outputs": [
    {
     "name": "stdout",
     "output_type": "stream",
     "text": [
      "É o administrador? True \n",
      "Esta ativo? True \n",
      "Esta autenticado? True\n"
     ]
    }
   ],
   "source": [
    "# Atribuição paralela\n",
    "e_admin = esta_ativo = esta_autenticado = True\n",
    "\n",
    "print('É o administrador?', e_admin, \\\n",
    "      '\\nEsta ativo?', esta_ativo, \\\n",
    "        '\\nEsta autenticado?', esta_autenticado)"
   ]
  },
  {
   "cell_type": "code",
   "execution_count": 1,
   "metadata": {},
   "outputs": [
    {
     "name": "stdout",
     "output_type": "stream",
     "text": [
      "Carol \n",
      " 28 \n",
      " Cientista de Dados\n"
     ]
    }
   ],
   "source": [
    "# Desempacotamento iterável\n",
    "pessoa = (\"Carol\", 28, \"Cientista de Dados\")\n",
    "\n",
    "nome, idade, profissao = pessoa\n",
    "\n",
    "print(nome,'\\n',idade,'\\n',profissao)"
   ]
  },
  {
   "cell_type": "markdown",
   "metadata": {},
   "source": [
    "## Tipos"
   ]
  },
  {
   "cell_type": "code",
   "execution_count": 15,
   "metadata": {},
   "outputs": [
    {
     "name": "stdout",
     "output_type": "stream",
     "text": [
      "Eu sou pública e qualquer um pode acessar!\n",
      "Eu sou não pública e não devo ser usada diretamente.\n"
     ]
    }
   ],
   "source": [
    "# Variável pública\n",
    "variavel_publica = \"Eu sou pública e qualquer um pode acessar!\"\n",
    "\n",
    "# Variável não pública (por convenção)\n",
    "_variavel_nao_publica = \"Eu sou não pública e não devo ser usada diretamente.\"\n",
    "\n",
    "# Função para acessar a variável não pública\n",
    "def acessar_variavel_nao_publica():\n",
    "    return _variavel_nao_publica\n",
    "\n",
    "# Exemplo de uso\n",
    "print(variavel_publica)  # Acesso direto\n",
    "print(acessar_variavel_nao_publica())  # Acesso recomendado para variável não pública"
   ]
  },
  {
   "cell_type": "markdown",
   "metadata": {},
   "source": [
    "# TIPOS DE DADOS"
   ]
  },
  {
   "cell_type": "code",
   "execution_count": 2,
   "metadata": {},
   "outputs": [],
   "source": [
    "## Exemplos dos tipos de dados\n",
    "texto = \"Olá Mundo\"\t\n",
    "numero_int = 5\n",
    "numero_float = 20.5\t\n",
    "complexo = 1j\n",
    "lista = [\"maca\", \"banana\", \"cereja\"]\t\n",
    "tupla = (\"laranja\", \"manga\", \"abacate\")\t\n",
    "intervalo = range(6)\t\n",
    "dicionario = {\"nome\" : \"Joao\", \"idade\" : 36}\t\n",
    "conjunto = {\"melancia\", \"melao\", \"morango\"}\t\n",
    "conjunto_fixo = frozenset({\"uva\", \"limao\", \"kiwi\"})\t\n",
    "booleano = True\t\n",
    "bites = b\"Oi\"\t\n",
    "bites_array = bytearray(5)\t\n",
    "memoria = memoryview(bytes(5))\t\n",
    "vazio = None"
   ]
  },
  {
   "cell_type": "code",
   "execution_count": 3,
   "metadata": {},
   "outputs": [
    {
     "name": "stdout",
     "output_type": "stream",
     "text": [
      "<class 'str'>\n",
      "<class 'complex'>\n",
      "<class 'set'>\n",
      "<class 'bytearray'>\n"
     ]
    }
   ],
   "source": [
    "## Checagem do tipo \n",
    "print(type(texto))\n",
    "print(type(complexo))\n",
    "print(type(conjunto))\n",
    "print(type(bites_array))"
   ]
  },
  {
   "cell_type": "code",
   "execution_count": null,
   "metadata": {},
   "outputs": [],
   "source": [
    "## Especificacao do tipo\n",
    "x_1 = int(20)\n",
    "x_2 = dict(nome=\"Ana\", idade=25)\n"
   ]
  },
  {
   "cell_type": "markdown",
   "metadata": {},
   "source": [
    "# CONDICIONAIS"
   ]
  },
  {
   "cell_type": "code",
   "execution_count": 6,
   "metadata": {},
   "outputs": [
    {
     "name": "stdout",
     "output_type": "stream",
     "text": [
      "O valor de x é maior que o valor de y\n"
     ]
    }
   ],
   "source": [
    "x = 0\n",
    "y = 14\n",
    "\n",
    "## Bloco condicional simples\n",
    "if x < y:\n",
    "    print('O valor de x é maior que o valor de y')"
   ]
  },
  {
   "cell_type": "code",
   "execution_count": 7,
   "metadata": {},
   "outputs": [
    {
     "name": "stdout",
     "output_type": "stream",
     "text": [
      "O valor de X é menor que 50.\n"
     ]
    }
   ],
   "source": [
    "## Bloco condicional composto\n",
    "x = 25\n",
    "\n",
    "if x < 50:\n",
    "    print('O valor de X é menor que 50.')\n",
    "else:\n",
    "    print('O valor de X é maior que 50.')"
   ]
  },
  {
   "cell_type": "code",
   "execution_count": 1,
   "metadata": {},
   "outputs": [
    {
     "name": "stdout",
     "output_type": "stream",
     "text": [
      "A fruta em questão é uma banana.\n"
     ]
    }
   ],
   "source": [
    "## Bloco condicional composto\n",
    "x = 'banana'\n",
    "\n",
    "if x == 'maca':\n",
    "    print('A fruta em questão é uma maçã.')\n",
    "elif x == 'banana':\n",
    "    print('A fruta em questão é uma banana.')\n",
    "else:\n",
    "    print('A fruta em questão é uma melancia.')"
   ]
  },
  {
   "cell_type": "markdown",
   "metadata": {},
   "source": [
    "# LOOPS"
   ]
  },
  {
   "cell_type": "code",
   "execution_count": 2,
   "metadata": {},
   "outputs": [
    {
     "name": "stdout",
     "output_type": "stream",
     "text": [
      "Oi estudante\n",
      "Oi estudante\n",
      "Oi estudante\n"
     ]
    }
   ],
   "source": [
    "## Laco 'while'\n",
    "contagem = 0\n",
    "\n",
    "while (contagem < 3):\n",
    "    contagem = contagem + 1\n",
    "    print(\"Oi estudante\")"
   ]
  },
  {
   "cell_type": "code",
   "execution_count": 3,
   "metadata": {},
   "outputs": [
    {
     "name": "stdout",
     "output_type": "stream",
     "text": [
      "0\n",
      "1\n",
      "2\n",
      "3\n"
     ]
    }
   ],
   "source": [
    "## Laco 'for'\n",
    "numeros = 4\n",
    "\n",
    "for i in range(0, numeros):\n",
    "    print(i)"
   ]
  },
  {
   "cell_type": "code",
   "execution_count": 1,
   "metadata": {},
   "outputs": [
    {
     "name": "stdout",
     "output_type": "stream",
     "text": [
      "4\n",
      "3\n",
      "Laço finalizado.\n"
     ]
    }
   ],
   "source": [
    "## Exemplo de quebra do laco 1\n",
    "total = 5\n",
    "\n",
    "while total > 0:\n",
    "    total -= 1\n",
    "    if total == 2:\n",
    "        break\n",
    "    print(total)\n",
    "print('Laço finalizado.')"
   ]
  },
  {
   "cell_type": "code",
   "execution_count": 2,
   "metadata": {},
   "outputs": [
    {
     "name": "stdout",
     "output_type": "stream",
     "text": [
      "4\n",
      "3\n",
      "1\n",
      "0\n",
      "Laço finalizado.\n"
     ]
    }
   ],
   "source": [
    "## Exemplo de quebra de laco 2\n",
    "total = 5\n",
    "\n",
    "while total > 0:\n",
    "    total -= 1\n",
    "    if total == 2:\n",
    "        continue\n",
    "    print(total)\n",
    "print('Laço finalizado.')"
   ]
  },
  {
   "cell_type": "markdown",
   "metadata": {},
   "source": [
    "# EXCEÇÕES"
   ]
  },
  {
   "cell_type": "code",
   "execution_count": 6,
   "metadata": {},
   "outputs": [
    {
     "name": "stdout",
     "output_type": "stream",
     "text": [
      "['ArithmeticError', 'AssertionError', 'AttributeError', 'BaseException', 'BaseExceptionGroup', 'BlockingIOError', 'BrokenPipeError', 'BufferError', 'BytesWarning', 'ChildProcessError', 'ConnectionAbortedError', 'ConnectionError', 'ConnectionRefusedError', 'ConnectionResetError', 'DeprecationWarning', 'EOFError', 'Ellipsis', 'EncodingWarning', 'EnvironmentError', 'Exception', 'ExceptionGroup', 'False', 'FileExistsError', 'FileNotFoundError', 'FloatingPointError', 'FutureWarning', 'GeneratorExit', 'IOError', 'ImportError', 'ImportWarning', 'IndentationError', 'IndexError', 'InterruptedError', 'IsADirectoryError', 'KeyError', 'KeyboardInterrupt', 'LookupError', 'MemoryError', 'ModuleNotFoundError', 'NameError', 'None', 'NotADirectoryError', 'NotImplemented', 'NotImplementedError', 'OSError', 'OverflowError', 'PendingDeprecationWarning', 'PermissionError', 'ProcessLookupError', 'RecursionError', 'ReferenceError', 'ResourceWarning', 'RuntimeError', 'RuntimeWarning', 'StopAsyncIteration', 'StopIteration', 'SyntaxError', 'SyntaxWarning', 'SystemError', 'SystemExit', 'TabError', 'TimeoutError', 'True', 'TypeError', 'UnboundLocalError', 'UnicodeDecodeError', 'UnicodeEncodeError', 'UnicodeError', 'UnicodeTranslateError', 'UnicodeWarning', 'UserWarning', 'ValueError', 'Warning', 'WindowsError', 'ZeroDivisionError', '__IPYTHON__', '__build_class__', '__debug__', '__doc__', '__import__', '__loader__', '__name__', '__package__', '__spec__', 'abs', 'aiter', 'all', 'anext', 'any', 'ascii', 'bin', 'bool', 'breakpoint', 'bytearray', 'bytes', 'callable', 'chr', 'classmethod', 'compile', 'complex', 'copyright', 'credits', 'delattr', 'dict', 'dir', 'display', 'divmod', 'enumerate', 'eval', 'exec', 'execfile', 'filter', 'float', 'format', 'frozenset', 'get_ipython', 'getattr', 'globals', 'hasattr', 'hash', 'help', 'hex', 'id', 'input', 'int', 'isinstance', 'issubclass', 'iter', 'len', 'license', 'list', 'locals', 'map', 'max', 'memoryview', 'min', 'next', 'object', 'oct', 'open', 'ord', 'pow', 'print', 'property', 'range', 'repr', 'reversed', 'round', 'runfile', 'set', 'setattr', 'slice', 'sorted', 'staticmethod', 'str', 'sum', 'super', 'tuple', 'type', 'vars', 'zip']\n"
     ]
    }
   ],
   "source": [
    "print(dir(locals()['__builtins__']))"
   ]
  },
  {
   "cell_type": "code",
   "execution_count": 5,
   "metadata": {},
   "outputs": [
    {
     "name": "stdout",
     "output_type": "stream",
     "text": [
      "Não foi possível abrir o arquivo: file.log\n"
     ]
    }
   ],
   "source": [
    "try:\n",
    "    with open(\"file.log\") as file:\n",
    "        read_data = file.read()\n",
    "except:\n",
    "    print(\"Não foi possível abrir o arquivo: file.log\")"
   ]
  },
  {
   "cell_type": "code",
   "execution_count": 3,
   "metadata": {},
   "outputs": [
    {
     "ename": "Exception",
     "evalue": "O número não pode ser maior que 5. (numero=10)",
     "output_type": "error",
     "traceback": [
      "\u001b[1;31m---------------------------------------------------------------------------\u001b[0m",
      "\u001b[1;31mException\u001b[0m                                 Traceback (most recent call last)",
      "Cell \u001b[1;32mIn[3], line 4\u001b[0m\n\u001b[0;32m      1\u001b[0m numero \u001b[38;5;241m=\u001b[39m \u001b[38;5;241m10\u001b[39m\n\u001b[0;32m      3\u001b[0m \u001b[38;5;28;01mif\u001b[39;00m numero \u001b[38;5;241m>\u001b[39m \u001b[38;5;241m5\u001b[39m:\n\u001b[1;32m----> 4\u001b[0m     \u001b[38;5;28;01mraise\u001b[39;00m \u001b[38;5;167;01mException\u001b[39;00m(\u001b[38;5;124mf\u001b[39m\u001b[38;5;124m\"\u001b[39m\u001b[38;5;124mO número não pode ser maior que 5. (\u001b[39m\u001b[38;5;132;01m{\u001b[39;00mnumero\u001b[38;5;132;01m=}\u001b[39;00m\u001b[38;5;124m)\u001b[39m\u001b[38;5;124m\"\u001b[39m)\n\u001b[0;32m      5\u001b[0m \u001b[38;5;28mprint\u001b[39m(numero)\n",
      "\u001b[1;31mException\u001b[0m: O número não pode ser maior que 5. (numero=10)"
     ]
    }
   ],
   "source": [
    "numero = 10\n",
    "\n",
    "if numero > 5:\n",
    "    raise Exception(f\"O número não pode ser maior que 5. ({numero=})\")\n",
    "print(numero)"
   ]
  },
  {
   "cell_type": "markdown",
   "metadata": {},
   "source": [
    "# FUNÇÕES"
   ]
  },
  {
   "cell_type": "code",
   "execution_count": 7,
   "metadata": {},
   "outputs": [
    {
     "name": "stdout",
     "output_type": "stream",
     "text": [
      "6\n"
     ]
    }
   ],
   "source": [
    "# Exemplo de uma funcao simples\n",
    "\n",
    "def soma(numero):\n",
    "    print(numero + 2)\n",
    "\n",
    "soma(4)"
   ]
  },
  {
   "cell_type": "code",
   "execution_count": 8,
   "metadata": {},
   "outputs": [
    {
     "name": "stdout",
     "output_type": "stream",
     "text": [
      "O caçula da família é: Leandro\n"
     ]
    }
   ],
   "source": [
    "def familia(*filhos):\n",
    "  print(\"O caçula da família é: \" + filhos[2])\n",
    "\n",
    "familia(\"Emilia\", \"Tobias\", \"Leandro\")"
   ]
  },
  {
   "cell_type": "code",
   "execution_count": 1,
   "metadata": {},
   "outputs": [
    {
     "name": "stdout",
     "output_type": "stream",
     "text": [
      "30\n"
     ]
    }
   ],
   "source": [
    "def f(x):\n",
    "    if x < 0:\n",
    "        return\n",
    "    if x > 100:\n",
    "        return\n",
    "    print(x)\n",
    "\n",
    "f(30)\n",
    "f(-2)"
   ]
  }
 ],
 "metadata": {
  "kernelspec": {
   "display_name": "Python 3",
   "language": "python",
   "name": "python3"
  },
  "language_info": {
   "codemirror_mode": {
    "name": "ipython",
    "version": 3
   },
   "file_extension": ".py",
   "mimetype": "text/x-python",
   "name": "python",
   "nbconvert_exporter": "python",
   "pygments_lexer": "ipython3",
   "version": "3.12.8"
  }
 },
 "nbformat": 4,
 "nbformat_minor": 2
}
